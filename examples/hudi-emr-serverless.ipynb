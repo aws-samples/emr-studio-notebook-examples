{
 "cells": [
  {
   "cell_type": "markdown",
   "id": "e8107dbc",
   "metadata": {},
   "source": [
    "# Apache Hudi example using EMR Serverless on EMR Studio"
   ]
  },
  {
   "cell_type": "markdown",
   "id": "4c1167c9",
   "metadata": {},
   "source": [
    "#### Topics covered in this example\n",
    "<ol>\n",
    "    <li> Configure a Spark session </li>\n",
    "    <li> Create an Apache Hudi table </li>\n",
    "    <li> Query the table </li>\n",
    "</ol>"
   ]
  },
  {
   "cell_type": "markdown",
   "id": "286bcc03",
   "metadata": {},
   "source": [
    "***\n",
    "\n",
    "## Prerequisites\n",
    "<div class=\"alert alert-block alert-info\">\n",
    "<b>NOTE :</b> In order to execute this notebook successfully as is, please ensure the following prerequisites are completed.</div>\n",
    "\n",
    "* EMR Serverless should be chosen as the Compute. The Application version should be 6.14 or higher.\n",
    "* Make sure the Studio user role has permission to attach the Workspace to the Application and to pass the runtime role to it.\n",
    "* This notebook uses the `PySpark` kernel.\n",
    "***"
   ]
  },
  {
   "cell_type": "markdown",
   "id": "26017ee4",
   "metadata": {},
   "source": [
    "## 1. Configure your Spark session.\n",
    "Configure the Spark Session. Set up Spark SQL extensions to use Apache Hudi. Set up the options for the Hudi table."
   ]
  },
  {
   "cell_type": "code",
   "execution_count": null,
   "id": "87ee73d7",
   "metadata": {
    "tags": []
   },
   "outputs": [],
   "source": [
    "%%configure -f\n",
    "{\n",
    "    \"conf\": {\n",
    "        \"spark.jars\": \"/usr/lib/hudi/hudi-spark-bundle.jar\",\n",
    "        \"spark.serializer\": \"org.apache.spark.serializer.KryoSerializer\",\n",
    "        \"spark.hadoop.hive.metastore.client.factory.class\": \"com.amazonaws.glue.catalog.metastore.AWSGlueDataCatalogHiveClientFactory\"\n",
    "    }\n",
    "}"
   ]
  },
  {
   "cell_type": "markdown",
   "id": "378216bd",
   "metadata": {},
   "source": [
    "<div class=\"alert alert-block alert-info\">\n",
    "    <b>NOTE :</b> You will need to update <b>my_bucket</b> in the Spark SQL statement below to your own bucket. Please make sure you have read and write permissions for this bucket.</div>"
   ]
  },
  {
   "cell_type": "code",
   "execution_count": null,
   "id": "7aec16c9",
   "metadata": {
    "tags": []
   },
   "outputs": [],
   "source": [
    "tableName = \"hudi_table\"\n",
    "basePath = \"s3://my_bucket/aws_workshop/hudi_data_location/\" + tableName\n",
    "\n",
    "hudi_options = {\n",
    "  'hoodie.table.name': tableName,\n",
    "  'hoodie.datasource.write.recordkey.field': 'id',\n",
    "  'hoodie.datasource.write.table.name': tableName,\n",
    "  'hoodie.datasource.write.operation': 'insert',\n",
    "  'hoodie.datasource.write.precombine.field': 'creation_date'\n",
    "}"
   ]
  },
  {
   "cell_type": "markdown",
   "id": "2b66f7de",
   "metadata": {},
   "source": [
    "---\n",
    "## 2. Create an Apache Hudi Table\n",
    "We will create a Spark Dataframe with sample data and write this into a Hudi table. "
   ]
  },
  {
   "cell_type": "code",
   "execution_count": null,
   "id": "0639ede8",
   "metadata": {
    "tags": []
   },
   "outputs": [],
   "source": [
    "data = spark.createDataFrame([\n",
    " (\"100\", \"2015-01-01\", \"2015-01-01T13:51:39.340396Z\"),\n",
    " (\"101\", \"2015-01-01\", \"2015-01-01T12:14:58.597216Z\"),\n",
    " (\"102\", \"2015-01-01\", \"2015-01-01T13:51:40.417052Z\"),\n",
    " (\"103\", \"2015-01-01\", \"2015-01-01T13:51:40.519832Z\")\n",
    "],[\"id\", \"creation_date\", \"last_update_time\"])"
   ]
  },
  {
   "cell_type": "code",
   "execution_count": null,
   "id": "347cb264",
   "metadata": {
    "tags": []
   },
   "outputs": [],
   "source": [
    "data.write.format(\"hudi\"). \\\n",
    "  options(**hudi_options). \\\n",
    "  mode(\"overwrite\"). \\\n",
    "  save(basePath)\n"
   ]
  },
  {
   "cell_type": "markdown",
   "id": "1b6e4210",
   "metadata": {},
   "source": [
    "---\n",
    "## 3. Query the table\n",
    "We will read the table using spark.read into a Spark dataframe"
   ]
  },
  {
   "cell_type": "code",
   "execution_count": null,
   "id": "03f4d11a",
   "metadata": {
    "tags": []
   },
   "outputs": [],
   "source": [
    "df = spark.read.format(\"hudi\").load(basePath)\n",
    "df.show()"
   ]
  },
  {
   "cell_type": "markdown",
   "id": "deb14d09",
   "metadata": {},
   "source": [
    "### You have made it to the end of this notebook!!"
   ]
  }
 ],
 "metadata": {
  "kernelspec": {
   "display_name": "PySpark",
   "language": "python",
   "name": "spark_magic_pyspark"
  },
  "language_info": {
   "codemirror_mode": {
    "name": "python",
    "version": 3
   },
   "file_extension": ".py",
   "mimetype": "text/x-python",
   "name": "pyspark",
   "pygments_lexer": "python3"
  }
 },
 "nbformat": 4,
 "nbformat_minor": 5
}
