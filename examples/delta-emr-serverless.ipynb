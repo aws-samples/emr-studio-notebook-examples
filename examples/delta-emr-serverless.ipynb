{
 "cells": [
  {
   "cell_type": "markdown",
   "id": "072f6bb8",
   "metadata": {},
   "source": [
    "# Linux Foundation Delta Lake example using EMR Serverless on EMR Studio"
   ]
  },
  {
   "cell_type": "markdown",
   "id": "2b32fb4d",
   "metadata": {},
   "source": [
    "#### Topics covered in this example\n",
    "<ol>\n",
    "    <li> Configure a Spark session </li>\n",
    "    <li> Create a Delta lake table </li>\n",
    "    <li> Query the table </li>\n",
    "</ol>"
   ]
  },
  {
   "cell_type": "markdown",
   "id": "cc083781",
   "metadata": {},
   "source": [
    "***\n",
    "\n",
    "## Prerequisites\n",
    "<div class=\"alert alert-block alert-info\">\n",
    "<b>NOTE :</b> In order to execute this notebook successfully as is, please ensure the following prerequisites are completed.</div>\n",
    "\n",
    "* EMR Serverless should be chosen as the Compute. The Application version should be 6.14 or higher.\n",
    "* Make sure the Studio user role has permission to attach the Workspace to the Application and to pass the runtime role to it.\n",
    "* This notebook uses the `PySpark` kernel.\n",
    "***"
   ]
  },
  {
   "cell_type": "markdown",
   "id": "aad41746",
   "metadata": {},
   "source": [
    "## 1. Configure your Spark session.\n",
    "Configure the Spark Session. Set up Spark SQL extensions to use Delta lake. "
   ]
  },
  {
   "cell_type": "code",
   "execution_count": null,
   "id": "d9a9cc4d",
   "metadata": {
    "tags": []
   },
   "outputs": [],
   "source": [
    "%%configure -f\n",
    "{\n",
    "    \"conf\": {\n",
    "        \"spark.sql.extensions\" : \"io.delta.sql.DeltaSparkSessionExtension\",\n",
    "        \"spark.sql.catalog.spark_catalog\": \"org.apache.spark.sql.delta.catalog.DeltaCatalog\",\n",
    "        \"spark.jars\": \"/usr/share/aws/delta/lib/delta-core.jar,/usr/share/aws/delta/lib/delta-storage.jar,/usr/share/aws/delta/lib/delta-storage-s3-dynamodb.jar\",\n",
    "        \"spark.hadoop.hive.metastore.client.factory.class\": \"com.amazonaws.glue.catalog.metastore.AWSGlueDataCatalogHiveClientFactory\"\n",
    "    }\n",
    "}"
   ]
  },
  {
   "cell_type": "markdown",
   "id": "30ff484d",
   "metadata": {},
   "source": [
    "---\n",
    "## 2. Create a Delta lake Table\n",
    "We will create a Spark Dataframe with sample data and write this into a Delta lake table. "
   ]
  },
  {
   "cell_type": "markdown",
   "id": "b27a97e9",
   "metadata": {},
   "source": [
    "<div class=\"alert alert-block alert-info\">\n",
    "    <b>NOTE :</b> You will need to update <b>my_bucket</b> in the Spark SQL statement below to your own bucket. Please make sure you have read and write permissions for this bucket.</div>"
   ]
  },
  {
   "cell_type": "code",
   "execution_count": null,
   "id": "7ae499d1",
   "metadata": {
    "tags": []
   },
   "outputs": [],
   "source": [
    "tableName = \"delta_table\"\n",
    "basePath = \"s3://my_bucket/aws_workshop/delta_data_location/\" + tableName\n"
   ]
  },
  {
   "cell_type": "code",
   "execution_count": null,
   "id": "4212f6be",
   "metadata": {
    "tags": []
   },
   "outputs": [],
   "source": [
    "data = spark.createDataFrame([\n",
    " (\"100\", \"2015-01-01\", \"2015-01-01T13:51:39.340396Z\"),\n",
    " (\"101\", \"2015-01-01\", \"2015-01-01T12:14:58.597216Z\"),\n",
    " (\"102\", \"2015-01-01\", \"2015-01-01T13:51:40.417052Z\"),\n",
    " (\"103\", \"2015-01-01\", \"2015-01-01T13:51:40.519832Z\")\n",
    "],[\"id\", \"creation_date\", \"last_update_time\"])"
   ]
  },
  {
   "cell_type": "code",
   "execution_count": null,
   "id": "abf2dbc6",
   "metadata": {
    "tags": []
   },
   "outputs": [],
   "source": [
    "data.write.format(\"delta\"). \\\n",
    "  save(basePath)\n"
   ]
  },
  {
   "cell_type": "markdown",
   "id": "a73d4a2b",
   "metadata": {},
   "source": [
    "---\n",
    "## 3. Query the table\n",
    "We will read the table using spark.read into a Spark dataframe"
   ]
  },
  {
   "cell_type": "code",
   "execution_count": null,
   "id": "7972630e",
   "metadata": {},
   "outputs": [],
   "source": [
    "df = spark.read.format(\"delta\").load(basePath)\n",
    "df.show()"
   ]
  },
  {
   "cell_type": "markdown",
   "id": "3dbfb8c8",
   "metadata": {},
   "source": [
    "### You have made it to the end of the this notebook!!"
   ]
  }
 ],
 "metadata": {
  "kernelspec": {
   "display_name": "PySpark",
   "language": "python",
   "name": "spark_magic_pyspark"
  },
  "language_info": {
   "codemirror_mode": {
    "name": "python",
    "version": 3
   },
   "file_extension": ".py",
   "mimetype": "text/x-python",
   "name": "pyspark",
   "pygments_lexer": "python3"
  }
 },
 "nbformat": 4,
 "nbformat_minor": 5
}
