{
 "cells": [
  {
   "cell_type": "markdown",
   "id": "9405ab68",
   "metadata": {},
   "source": [
    "# Apache Iceberg example using EMR Serverless on EMR Studio"
   ]
  },
  {
   "cell_type": "markdown",
   "id": "7993faa6",
   "metadata": {},
   "source": [
    "#### Topics covered in this example\n",
    "<ol>\n",
    "    <li> Configure a Spark session </li>\n",
    "    <li> Create an Apache Iceberg table </li>\n",
    "    <li> Query the table </li>\n",
    "</ol>"
   ]
  },
  {
   "cell_type": "markdown",
   "id": "d44db83f",
   "metadata": {},
   "source": [
    "***\n",
    "\n",
    "## Prerequisites\n",
    "<div class=\"alert alert-block alert-info\">\n",
    "<b>NOTE :</b> In order to execute this notebook successfully as is, please ensure the following prerequisites are completed.</div>\n",
    "\n",
    "* EMR Serverless should be chosen as the Compute. The Application version should be 6.14 or higher.\n",
    "* Make sure the Studio user role has permission to attach the Workspace to the Application and to pass the runtime role to it.\n",
    "* You must have a database in AWS Glue named \"default\".\n",
    "* This notebook uses the `PySpark` kernel.\n",
    "***"
   ]
  },
  {
   "cell_type": "markdown",
   "id": "a99c60bc",
   "metadata": {},
   "source": [
    "## 1. Configure your Spark session.\n",
    "Configure the Spark Session. Set up Spark SQL extensions to use Apache Iceberg. \n",
    "<div class=\"alert alert-block alert-info\">\n",
    "    <b>NOTE :</b> You will need to update <b>my_bucket</b> in the Spark SQL statement below to your own bucket. Please make sure you have read and write permissions for this bucket.</div>"
   ]
  },
  {
   "cell_type": "code",
   "execution_count": null,
   "id": "e6337b6d",
   "metadata": {
    "tags": []
   },
   "outputs": [],
   "source": [
    "%%configure -f\n",
    "{\n",
    "    \"conf\": {\n",
    "        \"spark.sql.extensions\":\"org.apache.iceberg.spark.extensions.IcebergSparkSessionExtensions\",\n",
    "        \"spark.sql.catalog.glue_catalog\": \"org.apache.iceberg.spark.SparkCatalog\",\n",
    "        \"spark.sql.catalog.glue_catalog.warehouse\": \"s3://my_bucket/aws_workshop\",\n",
    "        \"spark.sql.catalog.glue_catalog.catalog-impl\": \"org.apache.iceberg.aws.glue.GlueCatalog\",\n",
    "        \"spark.sql.catalog.glue_catalog.io-impl\": \"org.apache.iceberg.aws.s3.S3FileIO\",\n",
    "        \"spark.jars\": \"/usr/share/aws/iceberg/lib/iceberg-spark3-runtime.jar\"\n",
    "    }\n",
    "}"
   ]
  },
  {
   "cell_type": "markdown",
   "id": "d6e7ee48",
   "metadata": {},
   "source": [
    "---\n",
    "## 2. Create an Apache Iceberg Table\n",
    "We will create a Spark Dataframe with sample data and write this into an Iceberg table. \n",
    "\n",
    "<div class=\"alert alert-block alert-info\">\n",
    "    <b>NOTE :</b> You will need to update <b>my_bucket</b> in the Spark SQL statement below to your own bucket. Please make sure you have read and write permissions for this bucket.</div>"
   ]
  },
  {
   "cell_type": "code",
   "execution_count": null,
   "id": "b938063c",
   "metadata": {
    "tags": []
   },
   "outputs": [],
   "source": [
    "data = spark.createDataFrame([\n",
    " (\"100\", \"2015-01-01\", \"2015-01-01T13:51:39.340396Z\"),\n",
    " (\"101\", \"2015-01-01\", \"2015-01-01T12:14:58.597216Z\"),\n",
    " (\"102\", \"2015-01-01\", \"2015-01-01T13:51:40.417052Z\"),\n",
    " (\"103\", \"2015-01-01\", \"2015-01-01T13:51:40.519832Z\")\n",
    "],[\"id\", \"creation_date\", \"last_update_time\"])\n",
    "\n",
    "## Write a DataFrame as a Iceberg dataset to the Amazon S3 location.\n",
    "spark.sql(\"\"\"CREATE TABLE IF NOT EXISTS glue_catalog.default.iceberg_table (id string,\n",
    "creation_date string,\n",
    "last_update_time string)\n",
    "USING iceberg\n",
    "location \"\"\" + \"\\\"s3://my_bucket/aws_workshop/iceberg_table\\\"\")\n",
    "\n",
    "data.writeTo(\"glue_catalog.default.iceberg_table\").append()"
   ]
  },
  {
   "cell_type": "markdown",
   "id": "fecffb52",
   "metadata": {},
   "source": [
    "---\n",
    "## 3. Query the table\n",
    "We will query the table using %% sql magic and Spark SQL statement"
   ]
  },
  {
   "cell_type": "code",
   "execution_count": null,
   "id": "ad26952e",
   "metadata": {
    "tags": []
   },
   "outputs": [],
   "source": [
    "%%sql\n",
    "\n",
    "SELECT * from glue_catalog.default.iceberg_table LIMIT 10\n"
   ]
  },
  {
   "cell_type": "markdown",
   "id": "07a3d787",
   "metadata": {},
   "source": [
    "We will read the table using spark.read into a Spark dataframe"
   ]
  },
  {
   "cell_type": "code",
   "execution_count": null,
   "id": "9a5136e9",
   "metadata": {
    "tags": []
   },
   "outputs": [],
   "source": [
    "df = spark.read.format(\"iceberg\").load(\"glue_catalog.default.iceberg_table\")\n",
    "df.show()"
   ]
  },
  {
   "cell_type": "markdown",
   "id": "7a126d4b",
   "metadata": {},
   "source": [
    "### You have made it to the end of this notebook!!"
   ]
  }
 ],
 "metadata": {
  "kernelspec": {
   "display_name": "PySpark",
   "language": "python",
   "name": "spark_magic_pyspark"
  },
  "language_info": {
   "codemirror_mode": {
    "name": "python",
    "version": 3
   },
   "file_extension": ".py",
   "mimetype": "text/x-python",
   "name": "pyspark",
   "pygments_lexer": "python3"
  }
 },
 "nbformat": 4,
 "nbformat_minor": 5
}
